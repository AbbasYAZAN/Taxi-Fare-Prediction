{
 "cells": [
  {
   "cell_type": "markdown",
   "id": "a1f30b0d-b22f-42c8-8d2c-9acaed296bf3",
   "metadata": {},
   "source": [
    "<div style=\"display: flex; align-items: flex-start;\">\n",
    "    <a href='https://www.kaggle.com/competitions/new-york-city-taxi-fare-prediction' target='_blank'>\n",
    "        <img src=\"https://encrypted-tbn0.gstatic.com/images?q=tbn:ANd9GcSLM2y1Co0vDGfqILhwESRISu4iZuHkogeBZw&s\" alt=\"NYC Taxi\" style=\"border-radius: 10px; box-shadow: 0 4px 8px rgba(0, 0, 0, 0.1);\" width=\"600\" height=\"500\">\n",
    "    </a>\n",
    "    <div style=\"margin-left: 20px;\">\n",
    "        <p style=\"color: #B22222; font-size: 16px;\"><strong>Project Objective:</strong> The objective of this project is to develop a machine learning model that can predict taxi fare amounts for rides in New York City. The goal is to utilize features such as pickup and dropoff locations, time of day, and passenger count to accurately estimate the fare.</p>\n",
    "\n",
    "Exploratory Data Analysis (EDA): Examined missing values, distributions, and correlations within the dataset.\n",
    "\n",
    "Data Cleaning: Addressed missing values by imputing or removing them as appropriate, particularly focusing on critical data such as latitude and longitude values.\n",
    "\n",
    "Feature Engineering: Transformed existing variables and created new features (e.g., distance traveled, time of day) to enhance model performance.\n",
    "\n",
    "Feature Selection: Identified the most influential features to improve model accuracy.\n",
    "\n",
    "Modeling: Developed models using various regression algorithms including linear regression, decision trees, random forests, and gradient boosting machines.\n",
    "\n",
    "Model Evaluation: Evaluated models using metrics such as Mean Absolute Error (MAE), Root Mean Squared Error (RMSE), and R-squared to select the best-performing model.\n",
    "\n",
    "Hyperparameter Optimization: Improved model performance through techniques like Grid Search and Random Search to optimize hyperparameters.\n",
    "\n",
    "<p style=\"color: green; text-align: center; margin-top: 20px;\">\n",
    "    Click on the image to access the data files and the project's Kaggle page.\n",
    "</p>\n"
   ]
  },
  {
   "cell_type": "markdown",
   "id": "b91f7348-efd5-484e-b8fb-11a2924f6f8b",
   "metadata": {},
   "source": [
    "# EDA - Data Import"
   ]
  },
  {
   "cell_type": "code",
   "execution_count": 1,
   "id": "6b8b9313-2801-4725-ab98-3c00c35f82b7",
   "metadata": {},
   "outputs": [],
   "source": [
    "import pandas as pd\n",
    "import matplotlib.pyplot as plt\n",
    "import statsmodels.api as sm\n",
    "import datetime\n",
    "import numpy as np\n",
    "from scipy import stats"
   ]
  },
  {
   "cell_type": "code",
   "execution_count": 2,
   "id": "23b8afc5-d530-451f-a3b6-ff7a6d45d3e1",
   "metadata": {},
   "outputs": [],
   "source": [
    "df2=pd.read_csv(\"train.csv\")\n",
    "df3=pd.read_csv(\"test.csv\")"
   ]
  },
  {
   "cell_type": "code",
   "execution_count": 3,
   "id": "dad7d73f-6708-4022-8097-50a6888d0d9a",
   "metadata": {},
   "outputs": [],
   "source": [
    "numeric_cols = df2.select_dtypes(include=[np.number]).columns\n",
    "\n",
    "z_scores = np.abs(stats.zscore(df2[numeric_cols]))\n",
    "\n",
    "outliers = (z_scores > 3).any(axis=1)\n",
    "\n",
    "# Outlier'ları filtrele ve yeni DataFrame oluştur\n",
    "df2= df2[~outliers].reset_index(drop=True)"
   ]
  },
  {
   "cell_type": "code",
   "execution_count": 4,
   "id": "6498d527-0e8a-4fa6-a621-77830a89acb2",
   "metadata": {},
   "outputs": [],
   "source": [
    "df2 = df2.sample(frac=0.01, random_state=42)"
   ]
  },
  {
   "cell_type": "code",
   "execution_count": 5,
   "id": "bc838021-5199-4a17-9cf8-c0e7f45d656d",
   "metadata": {},
   "outputs": [],
   "source": [
    "df3['fare_amount'] = None"
   ]
  },
  {
   "cell_type": "code",
   "execution_count": 6,
   "id": "85dee0a7-2524-475b-a640-ac537f5b9a62",
   "metadata": {},
   "outputs": [
    {
     "data": {
      "text/plain": [
       "key                     0\n",
       "pickup_datetime         0\n",
       "pickup_longitude        0\n",
       "pickup_latitude         0\n",
       "dropoff_longitude       0\n",
       "dropoff_latitude        0\n",
       "passenger_count         0\n",
       "fare_amount          9914\n",
       "dtype: int64"
      ]
     },
     "execution_count": 6,
     "metadata": {},
     "output_type": "execute_result"
    }
   ],
   "source": [
    "df3.isnull().sum()"
   ]
  },
  {
   "cell_type": "code",
   "execution_count": 7,
   "id": "f31c62b1-2e5f-4ce8-88ea-5982eae7a92c",
   "metadata": {},
   "outputs": [],
   "source": [
    "df2= df2.dropna()"
   ]
  },
  {
   "cell_type": "code",
   "execution_count": 8,
   "id": "3a02da9a-c698-488f-b493-18b965e745e7",
   "metadata": {},
   "outputs": [
    {
     "name": "stderr",
     "output_type": "stream",
     "text": [
      "/var/folders/54/3ndbm4sx1r91pc_9n7tk08d40000gn/T/ipykernel_9195/1686589636.py:1: FutureWarning: The behavior of DataFrame concatenation with empty or all-NA entries is deprecated. In a future version, this will no longer exclude empty or all-NA columns when determining the result dtypes. To retain the old behavior, exclude the relevant entries before the concat operation.\n",
      "  df1 = pd.concat([df3, df2])\n"
     ]
    }
   ],
   "source": [
    "df1 = pd.concat([df3, df2])"
   ]
  },
  {
   "cell_type": "code",
   "execution_count": 9,
   "id": "0c9ea082-d601-48ff-8c65-2e88b51c62b5",
   "metadata": {},
   "outputs": [
    {
     "data": {
      "text/plain": [
       "((540961, 8), (531047, 8), (9914, 8))"
      ]
     },
     "execution_count": 9,
     "metadata": {},
     "output_type": "execute_result"
    }
   ],
   "source": [
    "df1.shape,df2.shape,df3.shape"
   ]
  },
  {
   "cell_type": "code",
   "execution_count": 10,
   "id": "7e15a3c7-50c9-4f79-b2fb-0133ff6a88cf",
   "metadata": {},
   "outputs": [
    {
     "data": {
      "text/plain": [
       "key                     0\n",
       "pickup_datetime         0\n",
       "pickup_longitude        0\n",
       "pickup_latitude         0\n",
       "dropoff_longitude       0\n",
       "dropoff_latitude        0\n",
       "passenger_count         0\n",
       "fare_amount          9914\n",
       "dtype: int64"
      ]
     },
     "execution_count": 10,
     "metadata": {},
     "output_type": "execute_result"
    }
   ],
   "source": [
    "df1.isnull().sum()"
   ]
  },
  {
   "cell_type": "code",
   "execution_count": 11,
   "id": "221d7755-94b0-458d-9d1a-940f049636f8",
   "metadata": {},
   "outputs": [
    {
     "data": {
      "text/html": [
       "<div>\n",
       "<style scoped>\n",
       "    .dataframe tbody tr th:only-of-type {\n",
       "        vertical-align: middle;\n",
       "    }\n",
       "\n",
       "    .dataframe tbody tr th {\n",
       "        vertical-align: top;\n",
       "    }\n",
       "\n",
       "    .dataframe thead th {\n",
       "        text-align: right;\n",
       "    }\n",
       "</style>\n",
       "<table border=\"1\" class=\"dataframe\">\n",
       "  <thead>\n",
       "    <tr style=\"text-align: right;\">\n",
       "      <th></th>\n",
       "      <th>key</th>\n",
       "      <th>pickup_datetime</th>\n",
       "      <th>pickup_longitude</th>\n",
       "      <th>pickup_latitude</th>\n",
       "      <th>dropoff_longitude</th>\n",
       "      <th>dropoff_latitude</th>\n",
       "      <th>passenger_count</th>\n",
       "      <th>fare_amount</th>\n",
       "    </tr>\n",
       "  </thead>\n",
       "  <tbody>\n",
       "    <tr>\n",
       "      <th>492039</th>\n",
       "      <td>2010-05-13 14:21:00.000000194</td>\n",
       "      <td>2010-05-13 14:21:00 UTC</td>\n",
       "      <td>-73.958722</td>\n",
       "      <td>40.763862</td>\n",
       "      <td>-73.967635</td>\n",
       "      <td>40.766003</td>\n",
       "      <td>2</td>\n",
       "      <td>8.5</td>\n",
       "    </tr>\n",
       "    <tr>\n",
       "      <th>30344876</th>\n",
       "      <td>2015-01-31 01:08:26.0000001</td>\n",
       "      <td>2015-01-31 01:08:26 UTC</td>\n",
       "      <td>-73.993355</td>\n",
       "      <td>40.727261</td>\n",
       "      <td>-73.983994</td>\n",
       "      <td>40.743889</td>\n",
       "      <td>1</td>\n",
       "      <td>7.0</td>\n",
       "    </tr>\n",
       "    <tr>\n",
       "      <th>38164231</th>\n",
       "      <td>2014-10-18 01:25:00.00000066</td>\n",
       "      <td>2014-10-18 01:25:00 UTC</td>\n",
       "      <td>-74.005175</td>\n",
       "      <td>40.739997</td>\n",
       "      <td>-74.010310</td>\n",
       "      <td>40.723370</td>\n",
       "      <td>1</td>\n",
       "      <td>7.5</td>\n",
       "    </tr>\n",
       "    <tr>\n",
       "      <th>44902533</th>\n",
       "      <td>2013-07-28 19:00:19.0000004</td>\n",
       "      <td>2013-07-28 19:00:19 UTC</td>\n",
       "      <td>-73.870987</td>\n",
       "      <td>40.773808</td>\n",
       "      <td>-73.972351</td>\n",
       "      <td>40.690563</td>\n",
       "      <td>1</td>\n",
       "      <td>31.5</td>\n",
       "    </tr>\n",
       "    <tr>\n",
       "      <th>2701617</th>\n",
       "      <td>2013-11-10 19:01:56.0000002</td>\n",
       "      <td>2013-11-10 19:01:56 UTC</td>\n",
       "      <td>-73.963100</td>\n",
       "      <td>40.775186</td>\n",
       "      <td>-73.954456</td>\n",
       "      <td>40.779059</td>\n",
       "      <td>1</td>\n",
       "      <td>4.5</td>\n",
       "    </tr>\n",
       "  </tbody>\n",
       "</table>\n",
       "</div>"
      ],
      "text/plain": [
       "                                    key          pickup_datetime  \\\n",
       "492039    2010-05-13 14:21:00.000000194  2010-05-13 14:21:00 UTC   \n",
       "30344876    2015-01-31 01:08:26.0000001  2015-01-31 01:08:26 UTC   \n",
       "38164231   2014-10-18 01:25:00.00000066  2014-10-18 01:25:00 UTC   \n",
       "44902533    2013-07-28 19:00:19.0000004  2013-07-28 19:00:19 UTC   \n",
       "2701617     2013-11-10 19:01:56.0000002  2013-11-10 19:01:56 UTC   \n",
       "\n",
       "          pickup_longitude  pickup_latitude  dropoff_longitude  \\\n",
       "492039          -73.958722        40.763862         -73.967635   \n",
       "30344876        -73.993355        40.727261         -73.983994   \n",
       "38164231        -74.005175        40.739997         -74.010310   \n",
       "44902533        -73.870987        40.773808         -73.972351   \n",
       "2701617         -73.963100        40.775186         -73.954456   \n",
       "\n",
       "          dropoff_latitude  passenger_count  fare_amount  \n",
       "492039           40.766003                2          8.5  \n",
       "30344876         40.743889                1          7.0  \n",
       "38164231         40.723370                1          7.5  \n",
       "44902533         40.690563                1         31.5  \n",
       "2701617          40.779059                1          4.5  "
      ]
     },
     "execution_count": 11,
     "metadata": {},
     "output_type": "execute_result"
    }
   ],
   "source": [
    "df1.sample(5)"
   ]
  },
  {
   "cell_type": "code",
   "execution_count": 12,
   "id": "6c8b3ce3-dd26-4b8b-ad34-ab77f8035dfe",
   "metadata": {},
   "outputs": [
    {
     "data": {
      "text/html": [
       "<div>\n",
       "<style scoped>\n",
       "    .dataframe tbody tr th:only-of-type {\n",
       "        vertical-align: middle;\n",
       "    }\n",
       "\n",
       "    .dataframe tbody tr th {\n",
       "        vertical-align: top;\n",
       "    }\n",
       "\n",
       "    .dataframe thead th {\n",
       "        text-align: right;\n",
       "    }\n",
       "</style>\n",
       "<table border=\"1\" class=\"dataframe\">\n",
       "  <thead>\n",
       "    <tr style=\"text-align: right;\">\n",
       "      <th></th>\n",
       "      <th>pickup_longitude</th>\n",
       "      <th>pickup_latitude</th>\n",
       "      <th>dropoff_longitude</th>\n",
       "      <th>dropoff_latitude</th>\n",
       "      <th>passenger_count</th>\n",
       "      <th>fare_amount</th>\n",
       "    </tr>\n",
       "  </thead>\n",
       "  <tbody>\n",
       "    <tr>\n",
       "      <th>pickup_longitude</th>\n",
       "      <td>1.000000</td>\n",
       "      <td>0.072696</td>\n",
       "      <td>0.017532</td>\n",
       "      <td>-0.007932</td>\n",
       "      <td>-0.001734</td>\n",
       "      <td>0.264742</td>\n",
       "    </tr>\n",
       "    <tr>\n",
       "      <th>pickup_latitude</th>\n",
       "      <td>0.072696</td>\n",
       "      <td>1.000000</td>\n",
       "      <td>-0.000218</td>\n",
       "      <td>0.028785</td>\n",
       "      <td>-0.003368</td>\n",
       "      <td>-0.086680</td>\n",
       "    </tr>\n",
       "    <tr>\n",
       "      <th>dropoff_longitude</th>\n",
       "      <td>0.017532</td>\n",
       "      <td>-0.000218</td>\n",
       "      <td>1.000000</td>\n",
       "      <td>-0.630495</td>\n",
       "      <td>-0.002820</td>\n",
       "      <td>0.017825</td>\n",
       "    </tr>\n",
       "    <tr>\n",
       "      <th>dropoff_latitude</th>\n",
       "      <td>-0.007932</td>\n",
       "      <td>0.028785</td>\n",
       "      <td>-0.630495</td>\n",
       "      <td>1.000000</td>\n",
       "      <td>0.000980</td>\n",
       "      <td>-0.017028</td>\n",
       "    </tr>\n",
       "    <tr>\n",
       "      <th>passenger_count</th>\n",
       "      <td>-0.001734</td>\n",
       "      <td>-0.003368</td>\n",
       "      <td>-0.002820</td>\n",
       "      <td>0.000980</td>\n",
       "      <td>1.000000</td>\n",
       "      <td>0.008810</td>\n",
       "    </tr>\n",
       "    <tr>\n",
       "      <th>fare_amount</th>\n",
       "      <td>0.264742</td>\n",
       "      <td>-0.086680</td>\n",
       "      <td>0.017825</td>\n",
       "      <td>-0.017028</td>\n",
       "      <td>0.008810</td>\n",
       "      <td>1.000000</td>\n",
       "    </tr>\n",
       "  </tbody>\n",
       "</table>\n",
       "</div>"
      ],
      "text/plain": [
       "                   pickup_longitude  pickup_latitude  dropoff_longitude  \\\n",
       "pickup_longitude           1.000000         0.072696           0.017532   \n",
       "pickup_latitude            0.072696         1.000000          -0.000218   \n",
       "dropoff_longitude          0.017532        -0.000218           1.000000   \n",
       "dropoff_latitude          -0.007932         0.028785          -0.630495   \n",
       "passenger_count           -0.001734        -0.003368          -0.002820   \n",
       "fare_amount                0.264742        -0.086680           0.017825   \n",
       "\n",
       "                   dropoff_latitude  passenger_count  fare_amount  \n",
       "pickup_longitude          -0.007932        -0.001734     0.264742  \n",
       "pickup_latitude            0.028785        -0.003368    -0.086680  \n",
       "dropoff_longitude         -0.630495        -0.002820     0.017825  \n",
       "dropoff_latitude           1.000000         0.000980    -0.017028  \n",
       "passenger_count            0.000980         1.000000     0.008810  \n",
       "fare_amount               -0.017028         0.008810     1.000000  "
      ]
     },
     "execution_count": 12,
     "metadata": {},
     "output_type": "execute_result"
    }
   ],
   "source": [
    "df1.corr(numeric_only=True)"
   ]
  },
  {
   "cell_type": "code",
   "execution_count": 13,
   "id": "f0a505ca-4c4e-40f3-beb5-5782ee96d233",
   "metadata": {},
   "outputs": [
    {
     "data": {
      "text/plain": [
       "fare_amount          1.000000\n",
       "pickup_longitude     0.264742\n",
       "pickup_latitude      0.086680\n",
       "dropoff_longitude    0.017825\n",
       "dropoff_latitude     0.017028\n",
       "passenger_count      0.008810\n",
       "Name: fare_amount, dtype: float64"
      ]
     },
     "execution_count": 13,
     "metadata": {},
     "output_type": "execute_result"
    }
   ],
   "source": [
    "abs(df1.corr(numeric_only=True)['fare_amount']).sort_values(ascending=False)"
   ]
  },
  {
   "cell_type": "code",
   "execution_count": 14,
   "id": "f441738b-ea65-4319-9b90-9d75492f3da5",
   "metadata": {},
   "outputs": [
    {
     "data": {
      "image/png": "[encoded data removed]",
      "text/plain": [
       "<Figure size 640x480 with 1 Axes>"
      ]
     },
     "metadata": {},
     "output_type": "display_data"
    },
    {
     "data": {
      "text/plain": [
       "<Figure size 1000x600 with 0 Axes>"
      ]
     },
     "metadata": {},
     "output_type": "display_data"
    },
    {
     "data": {
      "image/png": "[encoded data removed]",
      "text/plain": [
       "<Figure size 640x480 with 1 Axes>"
      ]
     },
     "metadata": {},
     "output_type": "display_data"
    }
   ],
   "source": [
    "average_fare_by_passenger_count = df1.groupby('passenger_count')['fare_amount'].mean()\n",
    "average_fare_by_passenger_count.plot(kind='bar')\n",
    "plt.xlabel('passenger_count Sayısı')\n",
    "plt.ylabel('Ortalama Ücret')\n",
    "plt.title('Yolcu Sayısına Göre Ortalama Ücret')\n",
    "plt.show()\n",
    "\n",
    "plt.figure(figsize=(10, 6))\n",
    "df1.boxplot(column='fare_amount', by='passenger_count', grid=False)\n",
    "plt.xlabel('Yolcu Sayısı')\n",
    "plt.ylabel('Ücret')\n",
    "plt.title('Yolcu Sayısına Göre Ücret Dağılımı')\n",
    "plt.suptitle('')\n",
    "plt.show()"
   ]
  },
  {
   "cell_type": "code",
   "execution_count": 15,
   "id": "3cb6e7e9-9f74-4cb4-aef2-28516f68f8c7",
   "metadata": {},
   "outputs": [
    {
     "name": "stdout",
     "output_type": "stream",
     "text": [
      "                            OLS Regression Results                            \n",
      "==============================================================================\n",
      "Dep. Variable:            fare_amount   R-squared:                         nan\n",
      "Model:                            OLS   Adj. R-squared:                    nan\n",
      "Method:                 Least Squares   F-statistic:                       nan\n",
      "Date:                Sat, 24 Aug 2024   Prob (F-statistic):                nan\n",
      "Time:                        18:50:00   Log-Likelihood:                    nan\n",
      "No. Observations:              540961   AIC:                               nan\n",
      "Df Residuals:                  540959   BIC:                               nan\n",
      "Df Model:                           1                                         \n",
      "Covariance Type:            nonrobust                                         \n",
      "===================================================================================\n",
      "                      coef    std err          t      P>|t|      [0.025      0.975]\n",
      "-----------------------------------------------------------------------------------\n",
      "const                  nan        nan        nan        nan         nan         nan\n",
      "passenger_count        nan        nan        nan        nan         nan         nan\n",
      "==============================================================================\n",
      "Omnibus:                          nan   Durbin-Watson:                     nan\n",
      "Prob(Omnibus):                    nan   Jarque-Bera (JB):                  nan\n",
      "Skew:                             nan   Prob(JB):                          nan\n",
      "Kurtosis:                         nan   Cond. No.                         3.96\n",
      "==============================================================================\n",
      "\n",
      "Notes:\n",
      "[1] Standard Errors assume that the covariance matrix of the errors is correctly specified.\n"
     ]
    }
   ],
   "source": [
    "# Bağımsız ve bağımlı değişkenleri belirleme\n",
    "X = df1[['passenger_count']]\n",
    "y = df1['fare_amount']\n",
    "\n",
    "# Bağımsız değişkenlere sabit ekleme\n",
    "X = sm.add_constant(X)\n",
    "\n",
    "# Modeli oluşturma ve eğitme\n",
    "model = sm.OLS(y, X).fit()\n",
    "\n",
    "# Sonuçları özetleme\n",
    "print(model.summary())\n"
   ]
  },
  {
   "cell_type": "code",
   "execution_count": null,
   "id": "f4509710-b912-421e-8b77-cec77263a863",
   "metadata": {},
   "outputs": [],
   "source": []
  },
  {
   "cell_type": "code",
   "execution_count": 16,
   "id": "63d04ade-32c5-44e8-a6ea-73dd535bf9ba",
   "metadata": {},
   "outputs": [
    {
     "name": "stdout",
     "output_type": "stream",
     "text": [
      "<class 'pandas.core.frame.DataFrame'>\n",
      "Index: 540961 entries, 0 to 2147539\n",
      "Data columns (total 8 columns):\n",
      " #   Column             Non-Null Count   Dtype  \n",
      "---  ------             --------------   -----  \n",
      " 0   key                540961 non-null  object \n",
      " 1   pickup_datetime    540961 non-null  object \n",
      " 2   pickup_longitude   540961 non-null  float64\n",
      " 3   pickup_latitude    540961 non-null  float64\n",
      " 4   dropoff_longitude  540961 non-null  float64\n",
      " 5   dropoff_latitude   540961 non-null  float64\n",
      " 6   passenger_count    540961 non-null  int64  \n",
      " 7   fare_amount        531047 non-null  float64\n",
      "dtypes: float64(5), int64(1), object(2)\n",
      "memory usage: 37.1+ MB\n"
     ]
    }
   ],
   "source": [
    "df1.info()"
   ]
  },
  {
   "cell_type": "code",
   "execution_count": 17,
   "id": "17118e32-6ffa-4f57-b889-a8b51d9857b6",
   "metadata": {},
   "outputs": [],
   "source": [
    "df1 = df1[(df1['fare_amount'] > 0) | (df1['fare_amount'].isna())]"
   ]
  },
  {
   "cell_type": "code",
   "execution_count": 18,
   "id": "ef01649e-6306-4a77-9401-6e977856db77",
   "metadata": {},
   "outputs": [],
   "source": [
    "# pickup_datetime sütunundan ek özellikler çıkarma\n",
    "df1['pickup_datetime'] = pd.to_datetime(df1['pickup_datetime'])\n",
    "df1['hour'] = df1['pickup_datetime'].dt.hour\n",
    "df1['day'] = df1['pickup_datetime'].dt.day\n",
    "df1['month'] = df1['pickup_datetime'].dt.month\n",
    "df1['year'] = df1['pickup_datetime'].dt.year\n",
    "df1['day_of_week'] = df1['pickup_datetime'].dt.dayofweek"
   ]
  },
  {
   "cell_type": "code",
   "execution_count": 19,
   "id": "d8ee355a-9c23-4756-ae67-dd6a0996507b",
   "metadata": {},
   "outputs": [
    {
     "data": {
      "text/plain": [
       "(540925, 13)"
      ]
     },
     "execution_count": 19,
     "metadata": {},
     "output_type": "execute_result"
    }
   ],
   "source": [
    "df1.shape"
   ]
  },
  {
   "cell_type": "code",
   "execution_count": 20,
   "id": "e64d13e1-cab9-44fb-bae7-c87cd97652ca",
   "metadata": {},
   "outputs": [],
   "source": [
    "df1['is_night'] = ((df1['hour'] >= 21) | (df1['hour'] < 6)).astype(int)"
   ]
  },
  {
   "cell_type": "code",
   "execution_count": 21,
   "id": "7e52270c-5113-4e89-b65a-f6d0b8f9e2fd",
   "metadata": {},
   "outputs": [],
   "source": [
    "def get_season(month):\n",
    "    if month in [12, 1, 2]:\n",
    "        return 'Winter'\n",
    "    elif month in [3, 4, 5]:\n",
    "        return 'Spring'\n",
    "    elif month in [6, 7, 8]:\n",
    "        return 'Summer'\n",
    "    elif month in [9, 10, 11]:\n",
    "        return 'Fall'\n",
    "\n",
    "# Sezon sütunu ekleme\n",
    "df1['season'] = df1['month'].apply(get_season)"
   ]
  },
  {
   "cell_type": "code",
   "execution_count": 22,
   "id": "37944fe6-ff3b-4276-a51e-563f1c31059a",
   "metadata": {},
   "outputs": [],
   "source": [
    "df1=df1.drop([\"pickup_datetime\"],axis=1)"
   ]
  },
  {
   "cell_type": "code",
   "execution_count": 23,
   "id": "d0358060-302f-4125-8a91-15b47940207f",
   "metadata": {},
   "outputs": [],
   "source": [
    "df1=df1.drop([\"hour\",\"month\",\"day\"],axis=1)"
   ]
  },
  {
   "cell_type": "code",
   "execution_count": 24,
   "id": "28b288bc-35ad-44c6-9b81-edb67d2e34ba",
   "metadata": {},
   "outputs": [],
   "source": [
    "df1['year'] = df1['year'].astype('category')\n",
    "df1['day_of_week'] = df1['day_of_week'].astype('category')\n",
    "df1['is_night'] = df1['is_night'].astype('category')"
   ]
  },
  {
   "cell_type": "code",
   "execution_count": 25,
   "id": "84c221fb-5fa0-4bf9-9a7a-3428881eed60",
   "metadata": {},
   "outputs": [],
   "source": [
    "key_column = df1['key']\n",
    "\n",
    "# 'key' sütunu hariç diğer sütunlar için dummy değişkenleri oluşturma\n",
    "df1 = pd.get_dummies(df1.drop(columns=['key']))"
   ]
  },
  {
   "cell_type": "code",
   "execution_count": 26,
   "id": "ec843fb0-30ba-4e50-98fd-9611031ec4db",
   "metadata": {},
   "outputs": [
    {
     "data": {
      "text/html": [
       "<div>\n",
       "<style scoped>\n",
       "    .dataframe tbody tr th:only-of-type {\n",
       "        vertical-align: middle;\n",
       "    }\n",
       "\n",
       "    .dataframe tbody tr th {\n",
       "        vertical-align: top;\n",
       "    }\n",
       "\n",
       "    .dataframe thead th {\n",
       "        text-align: right;\n",
       "    }\n",
       "</style>\n",
       "<table border=\"1\" class=\"dataframe\">\n",
       "  <thead>\n",
       "    <tr style=\"text-align: right;\">\n",
       "      <th></th>\n",
       "      <th>pickup_longitude</th>\n",
       "      <th>pickup_latitude</th>\n",
       "      <th>dropoff_longitude</th>\n",
       "      <th>dropoff_latitude</th>\n",
       "      <th>passenger_count</th>\n",
       "      <th>fare_amount</th>\n",
       "      <th>year_2009</th>\n",
       "      <th>year_2010</th>\n",
       "      <th>year_2011</th>\n",
       "      <th>year_2012</th>\n",
       "      <th>...</th>\n",
       "      <th>day_of_week_3</th>\n",
       "      <th>day_of_week_4</th>\n",
       "      <th>day_of_week_5</th>\n",
       "      <th>day_of_week_6</th>\n",
       "      <th>is_night_0</th>\n",
       "      <th>is_night_1</th>\n",
       "      <th>season_Fall</th>\n",
       "      <th>season_Spring</th>\n",
       "      <th>season_Summer</th>\n",
       "      <th>season_Winter</th>\n",
       "    </tr>\n",
       "  </thead>\n",
       "  <tbody>\n",
       "    <tr>\n",
       "      <th>0</th>\n",
       "      <td>-73.973320</td>\n",
       "      <td>40.763805</td>\n",
       "      <td>-73.981430</td>\n",
       "      <td>40.743835</td>\n",
       "      <td>1</td>\n",
       "      <td>NaN</td>\n",
       "      <td>False</td>\n",
       "      <td>False</td>\n",
       "      <td>False</td>\n",
       "      <td>False</td>\n",
       "      <td>...</td>\n",
       "      <td>False</td>\n",
       "      <td>False</td>\n",
       "      <td>False</td>\n",
       "      <td>False</td>\n",
       "      <td>True</td>\n",
       "      <td>False</td>\n",
       "      <td>False</td>\n",
       "      <td>False</td>\n",
       "      <td>False</td>\n",
       "      <td>True</td>\n",
       "    </tr>\n",
       "    <tr>\n",
       "      <th>1</th>\n",
       "      <td>-73.986862</td>\n",
       "      <td>40.719383</td>\n",
       "      <td>-73.998886</td>\n",
       "      <td>40.739201</td>\n",
       "      <td>1</td>\n",
       "      <td>NaN</td>\n",
       "      <td>False</td>\n",
       "      <td>False</td>\n",
       "      <td>False</td>\n",
       "      <td>False</td>\n",
       "      <td>...</td>\n",
       "      <td>False</td>\n",
       "      <td>False</td>\n",
       "      <td>False</td>\n",
       "      <td>False</td>\n",
       "      <td>True</td>\n",
       "      <td>False</td>\n",
       "      <td>False</td>\n",
       "      <td>False</td>\n",
       "      <td>False</td>\n",
       "      <td>True</td>\n",
       "    </tr>\n",
       "    <tr>\n",
       "      <th>2</th>\n",
       "      <td>-73.982524</td>\n",
       "      <td>40.751260</td>\n",
       "      <td>-73.979654</td>\n",
       "      <td>40.746139</td>\n",
       "      <td>1</td>\n",
       "      <td>NaN</td>\n",
       "      <td>False</td>\n",
       "      <td>False</td>\n",
       "      <td>True</td>\n",
       "      <td>False</td>\n",
       "      <td>...</td>\n",
       "      <td>False</td>\n",
       "      <td>False</td>\n",
       "      <td>True</td>\n",
       "      <td>False</td>\n",
       "      <td>True</td>\n",
       "      <td>False</td>\n",
       "      <td>True</td>\n",
       "      <td>False</td>\n",
       "      <td>False</td>\n",
       "      <td>False</td>\n",
       "    </tr>\n",
       "    <tr>\n",
       "      <th>3</th>\n",
       "      <td>-73.981160</td>\n",
       "      <td>40.767807</td>\n",
       "      <td>-73.990448</td>\n",
       "      <td>40.751635</td>\n",
       "      <td>1</td>\n",
       "      <td>NaN</td>\n",
       "      <td>False</td>\n",
       "      <td>False</td>\n",
       "      <td>False</td>\n",
       "      <td>True</td>\n",
       "      <td>...</td>\n",
       "      <td>False</td>\n",
       "      <td>False</td>\n",
       "      <td>True</td>\n",
       "      <td>False</td>\n",
       "      <td>False</td>\n",
       "      <td>True</td>\n",
       "      <td>False</td>\n",
       "      <td>False</td>\n",
       "      <td>False</td>\n",
       "      <td>True</td>\n",
       "    </tr>\n",
       "    <tr>\n",
       "      <th>4</th>\n",
       "      <td>-73.966046</td>\n",
       "      <td>40.789775</td>\n",
       "      <td>-73.988565</td>\n",
       "      <td>40.744427</td>\n",
       "      <td>1</td>\n",
       "      <td>NaN</td>\n",
       "      <td>False</td>\n",
       "      <td>False</td>\n",
       "      <td>False</td>\n",
       "      <td>True</td>\n",
       "      <td>...</td>\n",
       "      <td>False</td>\n",
       "      <td>False</td>\n",
       "      <td>True</td>\n",
       "      <td>False</td>\n",
       "      <td>False</td>\n",
       "      <td>True</td>\n",
       "      <td>False</td>\n",
       "      <td>False</td>\n",
       "      <td>False</td>\n",
       "      <td>True</td>\n",
       "    </tr>\n",
       "  </tbody>\n",
       "</table>\n",
       "<p>5 rows × 26 columns</p>\n",
       "</div>"
      ],
      "text/plain": [
       "   pickup_longitude  pickup_latitude  dropoff_longitude  dropoff_latitude  \\\n",
       "0        -73.973320        40.763805         -73.981430         40.743835   \n",
       "1        -73.986862        40.719383         -73.998886         40.739201   \n",
       "2        -73.982524        40.751260         -73.979654         40.746139   \n",
       "3        -73.981160        40.767807         -73.990448         40.751635   \n",
       "4        -73.966046        40.789775         -73.988565         40.744427   \n",
       "\n",
       "   passenger_count  fare_amount  year_2009  year_2010  year_2011  year_2012  \\\n",
       "0                1          NaN      False      False      False      False   \n",
       "1                1          NaN      False      False      False      False   \n",
       "2                1          NaN      False      False       True      False   \n",
       "3                1          NaN      False      False      False       True   \n",
       "4                1          NaN      False      False      False       True   \n",
       "\n",
       "   ...  day_of_week_3  day_of_week_4  day_of_week_5  day_of_week_6  \\\n",
       "0  ...          False          False          False          False   \n",
       "1  ...          False          False          False          False   \n",
       "2  ...          False          False           True          False   \n",
       "3  ...          False          False           True          False   \n",
       "4  ...          False          False           True          False   \n",
       "\n",
       "   is_night_0  is_night_1  season_Fall  season_Spring  season_Summer  \\\n",
       "0        True       False        False          False          False   \n",
       "1        True       False        False          False          False   \n",
       "2        True       False         True          False          False   \n",
       "3       False        True        False          False          False   \n",
       "4       False        True        False          False          False   \n",
       "\n",
       "   season_Winter  \n",
       "0           True  \n",
       "1           True  \n",
       "2          False  \n",
       "3           True  \n",
       "4           True  \n",
       "\n",
       "[5 rows x 26 columns]"
      ]
     },
     "execution_count": 26,
     "metadata": {},
     "output_type": "execute_result"
    }
   ],
   "source": [
    "df1.head()"
   ]
  },
  {
   "cell_type": "code",
   "execution_count": 27,
   "id": "76bf159a-e765-4557-8aba-af9f0712b9f4",
   "metadata": {},
   "outputs": [],
   "source": [
    "train = df1[df1['fare_amount'].notna()]\n",
    "test = df1[df1['fare_amount'].isna()]"
   ]
  },
  {
   "cell_type": "code",
   "execution_count": 28,
   "id": "d37335c0-539a-4d2c-b08d-273959bcb594",
   "metadata": {},
   "outputs": [],
   "source": [
    "x=train.drop(\"fare_amount\",axis=1)\n",
    "y=train[\"fare_amount\"]"
   ]
  },
  {
   "cell_type": "code",
   "execution_count": 29,
   "id": "1153ae24-0dd9-4a1c-8a1b-368e7ab1ec72",
   "metadata": {},
   "outputs": [],
   "source": [
    "import pandas as pd\n",
    "import numpy as np\n",
    "import matplotlib.pyplot as plt\n",
    "import seaborn as sns\n",
    "import warnings\n",
    "warnings.filterwarnings(\"ignore\")\n",
    "pd.set_option(\"display.max_columns\",100)\n",
    "\n",
    "from sklearn.linear_model import LinearRegression\n",
    "from sklearn.linear_model import Ridge,Lasso\n",
    "from sklearn.linear_model import ElasticNet\n",
    "from sklearn.neighbors import KNeighborsRegressor\n",
    "from sklearn.ensemble import GradientBoostingRegressor\n",
    "from sklearn.tree import ExtraTreeRegressor\n",
    "from sklearn.tree import DecisionTreeRegressor\n",
    "from xgboost import XGBRegressor\n",
    "from sklearn.model_selection import train_test_split\n",
    "from sklearn.metrics import mean_squared_error,r2_score,mean_absolute_error\n",
    "\n",
    "\n",
    "def algo_test(x,y):\n",
    "        #Bütün modelleri tanımlıyorum\n",
    "        L=LinearRegression()\n",
    "        R=Ridge()\n",
    "        Lass=Lasso()\n",
    "        E=ElasticNet()\n",
    "        ETR=ExtraTreeRegressor()\n",
    "        GBR=GradientBoostingRegressor()\n",
    "        kn=KNeighborsRegressor()\n",
    "        dt=DecisionTreeRegressor()\n",
    "        xgb=XGBRegressor()\n",
    "       \n",
    "        \n",
    "        algos=[L,R,Lass,E,ETR,GBR,kn,dt,xgb]\n",
    "        algo_names=['Linear','Ridge','Lasso','ElasticNet','Extra Tree','Gradient Boosting','KNeighborsRegressor','Decision Tree','XGBRegressor']\n",
    "        \n",
    "        x_train, x_test, y_train, y_test=train_test_split(x,y,test_size=.2,random_state=42)\n",
    "        \n",
    "        r_squared= []\n",
    "        rmse= []\n",
    "        mae= []\n",
    "        \n",
    "        #Hata ve doğruluk oranlarını bir tablo haline getirmek için bir dataframe oluşturuyorum\n",
    "        result=pd.DataFrame(columns=['R_Squared','RMSE','MAE'],index=algo_names)\n",
    "        \n",
    "        \n",
    "        for algo in algos:\n",
    "            p=algo.fit(x_train,y_train).predict(x_test)\n",
    "            r_squared.append(r2_score(y_test,p))\n",
    "            rmse.append(mean_squared_error(y_test,p)**.5)\n",
    "            mae.append(mean_absolute_error(y_test,p))\n",
    "        \n",
    "            \n",
    "\n",
    "        #result adlı tabloya doğruluk ve hata oranlarımı yerleştiriyorum\n",
    "        result.R_Squared=r_squared\n",
    "        result.RMSE=rmse\n",
    "        result.MAE=mae\n",
    "        \n",
    "       #oluşturduğum result tablosunu doğruluk oranına (r2_score) göre sıralayıp dönüyor\n",
    "        rtable=result.sort_values('R_Squared',ascending=False)\n",
    "        return rtable"
   ]
  },
  {
   "cell_type": "code",
   "execution_count": 30,
   "id": "b6fac8f2-858c-4b3d-994d-86c85b15ab92",
   "metadata": {},
   "outputs": [
    {
     "name": "stdout",
     "output_type": "stream",
     "text": [
      "Best Model:                         R_Squared      RMSE       MAE\n",
      "XGBRegressor         8.507533e-01  3.518205  1.832617\n",
      "Gradient Boosting    7.715093e-01  4.353143  2.842887\n",
      "Decision Tree        7.038689e-01  4.955765  2.535227\n",
      "KNeighborsRegressor  6.717156e-01  5.217877  2.744713\n",
      "Extra Tree           6.060597e-01  5.715891  3.116060\n",
      "Ridge                1.139667e-01  8.572228  5.510655\n",
      "Linear               1.139419e-01  8.572349  5.511044\n",
      "Lasso               -7.692873e-08  9.106862  5.841631\n",
      "ElasticNet          -7.692873e-08  9.106862  5.841631\n"
     ]
    }
   ],
   "source": [
    "print(\"Best Model:\", algo_test(x, y))"
   ]
  },
  {
   "cell_type": "code",
   "execution_count": 31,
   "id": "39f2b5a9-38d6-4de5-ae23-193724dfbe6d",
   "metadata": {},
   "outputs": [
    {
     "data": {
      "text/plain": [
       "Index(['pickup_longitude', 'pickup_latitude', 'dropoff_longitude',\n",
       "       'dropoff_latitude', 'passenger_count', 'year_2009', 'year_2010',\n",
       "       'year_2011', 'year_2012', 'year_2013', 'year_2014', 'year_2015',\n",
       "       'day_of_week_0', 'day_of_week_1', 'day_of_week_2', 'day_of_week_3',\n",
       "       'day_of_week_4', 'day_of_week_5', 'day_of_week_6', 'is_night_0',\n",
       "       'is_night_1', 'season_Fall', 'season_Spring', 'season_Summer',\n",
       "       'season_Winter'],\n",
       "      dtype='object')"
      ]
     },
     "execution_count": 31,
     "metadata": {},
     "output_type": "execute_result"
    }
   ],
   "source": [
    "x.columns"
   ]
  },
  {
   "cell_type": "code",
   "execution_count": 32,
   "id": "9f4f98d6-bdb4-4267-b868-a6e7feb47713",
   "metadata": {},
   "outputs": [],
   "source": [
    "# 'key' sütununu geri ekleme\n",
    "df1['key'] = key_column"
   ]
  },
  {
   "cell_type": "code",
   "execution_count": 33,
   "id": "7c484e30-1786-4121-b190-e2f9ac3367b9",
   "metadata": {},
   "outputs": [],
   "source": [
    "df1=df1.drop(\"key\",axis=1)"
   ]
  },
  {
   "cell_type": "code",
   "execution_count": 34,
   "id": "2750ec5d-d636-4a95-b878-1ef597b1082c",
   "metadata": {},
   "outputs": [],
   "source": [
    "train = df1[df1['fare_amount'].notna()]\n",
    "test = df1[df1['fare_amount'].isna()]"
   ]
  },
  {
   "cell_type": "code",
   "execution_count": 35,
   "id": "b1761f2a-2bf4-49fc-b3b2-e8d177d12075",
   "metadata": {},
   "outputs": [],
   "source": [
    "x=train.drop(\"fare_amount\",axis=1)\n",
    "y=train[\"fare_amount\"]"
   ]
  },
  {
   "cell_type": "code",
   "execution_count": 36,
   "id": "d784f7ff-99a3-49c2-889c-24e42bdb2c7e",
   "metadata": {},
   "outputs": [
    {
     "data": {
      "text/html": [
       "<div>\n",
       "<style scoped>\n",
       "    .dataframe tbody tr th:only-of-type {\n",
       "        vertical-align: middle;\n",
       "    }\n",
       "\n",
       "    .dataframe tbody tr th {\n",
       "        vertical-align: top;\n",
       "    }\n",
       "\n",
       "    .dataframe thead th {\n",
       "        text-align: right;\n",
       "    }\n",
       "</style>\n",
       "<table border=\"1\" class=\"dataframe\">\n",
       "  <thead>\n",
       "    <tr style=\"text-align: right;\">\n",
       "      <th></th>\n",
       "      <th>pickup_longitude</th>\n",
       "      <th>pickup_latitude</th>\n",
       "      <th>dropoff_longitude</th>\n",
       "      <th>dropoff_latitude</th>\n",
       "      <th>passenger_count</th>\n",
       "      <th>fare_amount</th>\n",
       "      <th>year_2009</th>\n",
       "      <th>year_2010</th>\n",
       "      <th>year_2011</th>\n",
       "      <th>year_2012</th>\n",
       "      <th>year_2013</th>\n",
       "      <th>year_2014</th>\n",
       "      <th>year_2015</th>\n",
       "      <th>day_of_week_0</th>\n",
       "      <th>day_of_week_1</th>\n",
       "      <th>day_of_week_2</th>\n",
       "      <th>day_of_week_3</th>\n",
       "      <th>day_of_week_4</th>\n",
       "      <th>day_of_week_5</th>\n",
       "      <th>day_of_week_6</th>\n",
       "      <th>is_night_0</th>\n",
       "      <th>is_night_1</th>\n",
       "      <th>season_Fall</th>\n",
       "      <th>season_Spring</th>\n",
       "      <th>season_Summer</th>\n",
       "      <th>season_Winter</th>\n",
       "    </tr>\n",
       "  </thead>\n",
       "  <tbody>\n",
       "    <tr>\n",
       "      <th>0</th>\n",
       "      <td>-73.973320</td>\n",
       "      <td>40.763805</td>\n",
       "      <td>-73.981430</td>\n",
       "      <td>40.743835</td>\n",
       "      <td>1</td>\n",
       "      <td>NaN</td>\n",
       "      <td>False</td>\n",
       "      <td>False</td>\n",
       "      <td>False</td>\n",
       "      <td>False</td>\n",
       "      <td>False</td>\n",
       "      <td>False</td>\n",
       "      <td>True</td>\n",
       "      <td>False</td>\n",
       "      <td>True</td>\n",
       "      <td>False</td>\n",
       "      <td>False</td>\n",
       "      <td>False</td>\n",
       "      <td>False</td>\n",
       "      <td>False</td>\n",
       "      <td>True</td>\n",
       "      <td>False</td>\n",
       "      <td>False</td>\n",
       "      <td>False</td>\n",
       "      <td>False</td>\n",
       "      <td>True</td>\n",
       "    </tr>\n",
       "    <tr>\n",
       "      <th>1</th>\n",
       "      <td>-73.986862</td>\n",
       "      <td>40.719383</td>\n",
       "      <td>-73.998886</td>\n",
       "      <td>40.739201</td>\n",
       "      <td>1</td>\n",
       "      <td>NaN</td>\n",
       "      <td>False</td>\n",
       "      <td>False</td>\n",
       "      <td>False</td>\n",
       "      <td>False</td>\n",
       "      <td>False</td>\n",
       "      <td>False</td>\n",
       "      <td>True</td>\n",
       "      <td>False</td>\n",
       "      <td>True</td>\n",
       "      <td>False</td>\n",
       "      <td>False</td>\n",
       "      <td>False</td>\n",
       "      <td>False</td>\n",
       "      <td>False</td>\n",
       "      <td>True</td>\n",
       "      <td>False</td>\n",
       "      <td>False</td>\n",
       "      <td>False</td>\n",
       "      <td>False</td>\n",
       "      <td>True</td>\n",
       "    </tr>\n",
       "    <tr>\n",
       "      <th>2</th>\n",
       "      <td>-73.982524</td>\n",
       "      <td>40.751260</td>\n",
       "      <td>-73.979654</td>\n",
       "      <td>40.746139</td>\n",
       "      <td>1</td>\n",
       "      <td>NaN</td>\n",
       "      <td>False</td>\n",
       "      <td>False</td>\n",
       "      <td>True</td>\n",
       "      <td>False</td>\n",
       "      <td>False</td>\n",
       "      <td>False</td>\n",
       "      <td>False</td>\n",
       "      <td>False</td>\n",
       "      <td>False</td>\n",
       "      <td>False</td>\n",
       "      <td>False</td>\n",
       "      <td>False</td>\n",
       "      <td>True</td>\n",
       "      <td>False</td>\n",
       "      <td>True</td>\n",
       "      <td>False</td>\n",
       "      <td>True</td>\n",
       "      <td>False</td>\n",
       "      <td>False</td>\n",
       "      <td>False</td>\n",
       "    </tr>\n",
       "    <tr>\n",
       "      <th>3</th>\n",
       "      <td>-73.981160</td>\n",
       "      <td>40.767807</td>\n",
       "      <td>-73.990448</td>\n",
       "      <td>40.751635</td>\n",
       "      <td>1</td>\n",
       "      <td>NaN</td>\n",
       "      <td>False</td>\n",
       "      <td>False</td>\n",
       "      <td>False</td>\n",
       "      <td>True</td>\n",
       "      <td>False</td>\n",
       "      <td>False</td>\n",
       "      <td>False</td>\n",
       "      <td>False</td>\n",
       "      <td>False</td>\n",
       "      <td>False</td>\n",
       "      <td>False</td>\n",
       "      <td>False</td>\n",
       "      <td>True</td>\n",
       "      <td>False</td>\n",
       "      <td>False</td>\n",
       "      <td>True</td>\n",
       "      <td>False</td>\n",
       "      <td>False</td>\n",
       "      <td>False</td>\n",
       "      <td>True</td>\n",
       "    </tr>\n",
       "    <tr>\n",
       "      <th>4</th>\n",
       "      <td>-73.966046</td>\n",
       "      <td>40.789775</td>\n",
       "      <td>-73.988565</td>\n",
       "      <td>40.744427</td>\n",
       "      <td>1</td>\n",
       "      <td>NaN</td>\n",
       "      <td>False</td>\n",
       "      <td>False</td>\n",
       "      <td>False</td>\n",
       "      <td>True</td>\n",
       "      <td>False</td>\n",
       "      <td>False</td>\n",
       "      <td>False</td>\n",
       "      <td>False</td>\n",
       "      <td>False</td>\n",
       "      <td>False</td>\n",
       "      <td>False</td>\n",
       "      <td>False</td>\n",
       "      <td>True</td>\n",
       "      <td>False</td>\n",
       "      <td>False</td>\n",
       "      <td>True</td>\n",
       "      <td>False</td>\n",
       "      <td>False</td>\n",
       "      <td>False</td>\n",
       "      <td>True</td>\n",
       "    </tr>\n",
       "  </tbody>\n",
       "</table>\n",
       "</div>"
      ],
      "text/plain": [
       "   pickup_longitude  pickup_latitude  dropoff_longitude  dropoff_latitude  \\\n",
       "0        -73.973320        40.763805         -73.981430         40.743835   \n",
       "1        -73.986862        40.719383         -73.998886         40.739201   \n",
       "2        -73.982524        40.751260         -73.979654         40.746139   \n",
       "3        -73.981160        40.767807         -73.990448         40.751635   \n",
       "4        -73.966046        40.789775         -73.988565         40.744427   \n",
       "\n",
       "   passenger_count  fare_amount  year_2009  year_2010  year_2011  year_2012  \\\n",
       "0                1          NaN      False      False      False      False   \n",
       "1                1          NaN      False      False      False      False   \n",
       "2                1          NaN      False      False       True      False   \n",
       "3                1          NaN      False      False      False       True   \n",
       "4                1          NaN      False      False      False       True   \n",
       "\n",
       "   year_2013  year_2014  year_2015  day_of_week_0  day_of_week_1  \\\n",
       "0      False      False       True          False           True   \n",
       "1      False      False       True          False           True   \n",
       "2      False      False      False          False          False   \n",
       "3      False      False      False          False          False   \n",
       "4      False      False      False          False          False   \n",
       "\n",
       "   day_of_week_2  day_of_week_3  day_of_week_4  day_of_week_5  day_of_week_6  \\\n",
       "0          False          False          False          False          False   \n",
       "1          False          False          False          False          False   \n",
       "2          False          False          False           True          False   \n",
       "3          False          False          False           True          False   \n",
       "4          False          False          False           True          False   \n",
       "\n",
       "   is_night_0  is_night_1  season_Fall  season_Spring  season_Summer  \\\n",
       "0        True       False        False          False          False   \n",
       "1        True       False        False          False          False   \n",
       "2        True       False         True          False          False   \n",
       "3       False        True        False          False          False   \n",
       "4       False        True        False          False          False   \n",
       "\n",
       "   season_Winter  \n",
       "0           True  \n",
       "1           True  \n",
       "2          False  \n",
       "3           True  \n",
       "4           True  "
      ]
     },
     "execution_count": 36,
     "metadata": {},
     "output_type": "execute_result"
    }
   ],
   "source": [
    "test.head()"
   ]
  },
  {
   "cell_type": "code",
   "execution_count": 37,
   "id": "ea3589f3-9b83-40cb-8f8d-c742ce7b2db9",
   "metadata": {},
   "outputs": [],
   "source": [
    "GBR=XGBRegressor()"
   ]
  },
  {
   "cell_type": "code",
   "execution_count": 38,
   "id": "d411c812-4c25-47f4-b207-2b9338c7e93a",
   "metadata": {},
   "outputs": [],
   "source": [
    "model=GBR.fit(x,y)"
   ]
  },
  {
   "cell_type": "code",
   "execution_count": 39,
   "id": "ac80dae7-ec25-409e-9be4-3f3133369801",
   "metadata": {},
   "outputs": [],
   "source": [
    "x_test = test.drop(\"fare_amount\", axis=1)"
   ]
  },
  {
   "cell_type": "code",
   "execution_count": 40,
   "id": "b6f6150c-4cb8-4310-833f-6e58c81cba40",
   "metadata": {},
   "outputs": [],
   "source": [
    "tahmin=model.predict(x_test)"
   ]
  },
  {
   "cell_type": "code",
   "execution_count": 41,
   "id": "855e3e35-9d5f-4844-8296-8a774ca595bf",
   "metadata": {},
   "outputs": [],
   "source": [
    "# Eksik verileri doldurma\n",
    "df1.loc[df1['fare_amount'].isna(), 'fare_amount'] = tahmin"
   ]
  },
  {
   "cell_type": "code",
   "execution_count": 42,
   "id": "58a8c4d3-fe4c-41f6-99ce-6a3872c28b27",
   "metadata": {},
   "outputs": [
    {
     "data": {
      "text/plain": [
       "pickup_longitude     0\n",
       "pickup_latitude      0\n",
       "dropoff_longitude    0\n",
       "dropoff_latitude     0\n",
       "passenger_count      0\n",
       "fare_amount          0\n",
       "year_2009            0\n",
       "year_2010            0\n",
       "year_2011            0\n",
       "year_2012            0\n",
       "year_2013            0\n",
       "year_2014            0\n",
       "year_2015            0\n",
       "day_of_week_0        0\n",
       "day_of_week_1        0\n",
       "day_of_week_2        0\n",
       "day_of_week_3        0\n",
       "day_of_week_4        0\n",
       "day_of_week_5        0\n",
       "day_of_week_6        0\n",
       "is_night_0           0\n",
       "is_night_1           0\n",
       "season_Fall          0\n",
       "season_Spring        0\n",
       "season_Summer        0\n",
       "season_Winter        0\n",
       "dtype: int64"
      ]
     },
     "execution_count": 42,
     "metadata": {},
     "output_type": "execute_result"
    }
   ],
   "source": [
    "df1.isnull().sum()"
   ]
  },
  {
   "cell_type": "code",
   "execution_count": 43,
   "id": "bb7a1130-8739-42fe-93ef-75237f6e8b8e",
   "metadata": {},
   "outputs": [],
   "source": [
    "test.loc[test['fare_amount'].isna(), 'fare_amount'] = tahmin"
   ]
  },
  {
   "cell_type": "code",
   "execution_count": 44,
   "id": "91ad8409-5cfd-426f-a323-8550f6ba1e5a",
   "metadata": {},
   "outputs": [
    {
     "data": {
      "text/html": [
       "<div>\n",
       "<style scoped>\n",
       "    .dataframe tbody tr th:only-of-type {\n",
       "        vertical-align: middle;\n",
       "    }\n",
       "\n",
       "    .dataframe tbody tr th {\n",
       "        vertical-align: top;\n",
       "    }\n",
       "\n",
       "    .dataframe thead th {\n",
       "        text-align: right;\n",
       "    }\n",
       "</style>\n",
       "<table border=\"1\" class=\"dataframe\">\n",
       "  <thead>\n",
       "    <tr style=\"text-align: right;\">\n",
       "      <th></th>\n",
       "      <th>pickup_longitude</th>\n",
       "      <th>pickup_latitude</th>\n",
       "      <th>dropoff_longitude</th>\n",
       "      <th>dropoff_latitude</th>\n",
       "      <th>passenger_count</th>\n",
       "      <th>fare_amount</th>\n",
       "      <th>year_2009</th>\n",
       "      <th>year_2010</th>\n",
       "      <th>year_2011</th>\n",
       "      <th>year_2012</th>\n",
       "      <th>year_2013</th>\n",
       "      <th>year_2014</th>\n",
       "      <th>year_2015</th>\n",
       "      <th>day_of_week_0</th>\n",
       "      <th>day_of_week_1</th>\n",
       "      <th>day_of_week_2</th>\n",
       "      <th>day_of_week_3</th>\n",
       "      <th>day_of_week_4</th>\n",
       "      <th>day_of_week_5</th>\n",
       "      <th>day_of_week_6</th>\n",
       "      <th>is_night_0</th>\n",
       "      <th>is_night_1</th>\n",
       "      <th>season_Fall</th>\n",
       "      <th>season_Spring</th>\n",
       "      <th>season_Summer</th>\n",
       "      <th>season_Winter</th>\n",
       "    </tr>\n",
       "  </thead>\n",
       "  <tbody>\n",
       "    <tr>\n",
       "      <th>0</th>\n",
       "      <td>-73.973320</td>\n",
       "      <td>40.763805</td>\n",
       "      <td>-73.981430</td>\n",
       "      <td>40.743835</td>\n",
       "      <td>1</td>\n",
       "      <td>9.116914</td>\n",
       "      <td>False</td>\n",
       "      <td>False</td>\n",
       "      <td>False</td>\n",
       "      <td>False</td>\n",
       "      <td>False</td>\n",
       "      <td>False</td>\n",
       "      <td>True</td>\n",
       "      <td>False</td>\n",
       "      <td>True</td>\n",
       "      <td>False</td>\n",
       "      <td>False</td>\n",
       "      <td>False</td>\n",
       "      <td>False</td>\n",
       "      <td>False</td>\n",
       "      <td>True</td>\n",
       "      <td>False</td>\n",
       "      <td>False</td>\n",
       "      <td>False</td>\n",
       "      <td>False</td>\n",
       "      <td>True</td>\n",
       "    </tr>\n",
       "    <tr>\n",
       "      <th>1</th>\n",
       "      <td>-73.986862</td>\n",
       "      <td>40.719383</td>\n",
       "      <td>-73.998886</td>\n",
       "      <td>40.739201</td>\n",
       "      <td>1</td>\n",
       "      <td>10.234802</td>\n",
       "      <td>False</td>\n",
       "      <td>False</td>\n",
       "      <td>False</td>\n",
       "      <td>False</td>\n",
       "      <td>False</td>\n",
       "      <td>False</td>\n",
       "      <td>True</td>\n",
       "      <td>False</td>\n",
       "      <td>True</td>\n",
       "      <td>False</td>\n",
       "      <td>False</td>\n",
       "      <td>False</td>\n",
       "      <td>False</td>\n",
       "      <td>False</td>\n",
       "      <td>True</td>\n",
       "      <td>False</td>\n",
       "      <td>False</td>\n",
       "      <td>False</td>\n",
       "      <td>False</td>\n",
       "      <td>True</td>\n",
       "    </tr>\n",
       "    <tr>\n",
       "      <th>2</th>\n",
       "      <td>-73.982524</td>\n",
       "      <td>40.751260</td>\n",
       "      <td>-73.979654</td>\n",
       "      <td>40.746139</td>\n",
       "      <td>1</td>\n",
       "      <td>5.313328</td>\n",
       "      <td>False</td>\n",
       "      <td>False</td>\n",
       "      <td>True</td>\n",
       "      <td>False</td>\n",
       "      <td>False</td>\n",
       "      <td>False</td>\n",
       "      <td>False</td>\n",
       "      <td>False</td>\n",
       "      <td>False</td>\n",
       "      <td>False</td>\n",
       "      <td>False</td>\n",
       "      <td>False</td>\n",
       "      <td>True</td>\n",
       "      <td>False</td>\n",
       "      <td>True</td>\n",
       "      <td>False</td>\n",
       "      <td>True</td>\n",
       "      <td>False</td>\n",
       "      <td>False</td>\n",
       "      <td>False</td>\n",
       "    </tr>\n",
       "    <tr>\n",
       "      <th>3</th>\n",
       "      <td>-73.981160</td>\n",
       "      <td>40.767807</td>\n",
       "      <td>-73.990448</td>\n",
       "      <td>40.751635</td>\n",
       "      <td>1</td>\n",
       "      <td>6.571102</td>\n",
       "      <td>False</td>\n",
       "      <td>False</td>\n",
       "      <td>False</td>\n",
       "      <td>True</td>\n",
       "      <td>False</td>\n",
       "      <td>False</td>\n",
       "      <td>False</td>\n",
       "      <td>False</td>\n",
       "      <td>False</td>\n",
       "      <td>False</td>\n",
       "      <td>False</td>\n",
       "      <td>False</td>\n",
       "      <td>True</td>\n",
       "      <td>False</td>\n",
       "      <td>False</td>\n",
       "      <td>True</td>\n",
       "      <td>False</td>\n",
       "      <td>False</td>\n",
       "      <td>False</td>\n",
       "      <td>True</td>\n",
       "    </tr>\n",
       "    <tr>\n",
       "      <th>4</th>\n",
       "      <td>-73.966046</td>\n",
       "      <td>40.789775</td>\n",
       "      <td>-73.988565</td>\n",
       "      <td>40.744427</td>\n",
       "      <td>1</td>\n",
       "      <td>16.052261</td>\n",
       "      <td>False</td>\n",
       "      <td>False</td>\n",
       "      <td>False</td>\n",
       "      <td>True</td>\n",
       "      <td>False</td>\n",
       "      <td>False</td>\n",
       "      <td>False</td>\n",
       "      <td>False</td>\n",
       "      <td>False</td>\n",
       "      <td>False</td>\n",
       "      <td>False</td>\n",
       "      <td>False</td>\n",
       "      <td>True</td>\n",
       "      <td>False</td>\n",
       "      <td>False</td>\n",
       "      <td>True</td>\n",
       "      <td>False</td>\n",
       "      <td>False</td>\n",
       "      <td>False</td>\n",
       "      <td>True</td>\n",
       "    </tr>\n",
       "  </tbody>\n",
       "</table>\n",
       "</div>"
      ],
      "text/plain": [
       "   pickup_longitude  pickup_latitude  dropoff_longitude  dropoff_latitude  \\\n",
       "0        -73.973320        40.763805         -73.981430         40.743835   \n",
       "1        -73.986862        40.719383         -73.998886         40.739201   \n",
       "2        -73.982524        40.751260         -73.979654         40.746139   \n",
       "3        -73.981160        40.767807         -73.990448         40.751635   \n",
       "4        -73.966046        40.789775         -73.988565         40.744427   \n",
       "\n",
       "   passenger_count  fare_amount  year_2009  year_2010  year_2011  year_2012  \\\n",
       "0                1     9.116914      False      False      False      False   \n",
       "1                1    10.234802      False      False      False      False   \n",
       "2                1     5.313328      False      False       True      False   \n",
       "3                1     6.571102      False      False      False       True   \n",
       "4                1    16.052261      False      False      False       True   \n",
       "\n",
       "   year_2013  year_2014  year_2015  day_of_week_0  day_of_week_1  \\\n",
       "0      False      False       True          False           True   \n",
       "1      False      False       True          False           True   \n",
       "2      False      False      False          False          False   \n",
       "3      False      False      False          False          False   \n",
       "4      False      False      False          False          False   \n",
       "\n",
       "   day_of_week_2  day_of_week_3  day_of_week_4  day_of_week_5  day_of_week_6  \\\n",
       "0          False          False          False          False          False   \n",
       "1          False          False          False          False          False   \n",
       "2          False          False          False           True          False   \n",
       "3          False          False          False           True          False   \n",
       "4          False          False          False           True          False   \n",
       "\n",
       "   is_night_0  is_night_1  season_Fall  season_Spring  season_Summer  \\\n",
       "0        True       False        False          False          False   \n",
       "1        True       False        False          False          False   \n",
       "2        True       False         True          False          False   \n",
       "3       False        True        False          False          False   \n",
       "4       False        True        False          False          False   \n",
       "\n",
       "   season_Winter  \n",
       "0           True  \n",
       "1           True  \n",
       "2          False  \n",
       "3           True  \n",
       "4           True  "
      ]
     },
     "execution_count": 44,
     "metadata": {},
     "output_type": "execute_result"
    }
   ],
   "source": [
    "test.head()"
   ]
  },
  {
   "cell_type": "code",
   "execution_count": 45,
   "id": "607664fd-b1e1-44c8-ab16-74c9d21ad8e0",
   "metadata": {},
   "outputs": [
    {
     "data": {
      "text/plain": [
       "(9914, 8)"
      ]
     },
     "execution_count": 45,
     "metadata": {},
     "output_type": "execute_result"
    }
   ],
   "source": [
    "df3.shape"
   ]
  },
  {
   "cell_type": "code",
   "execution_count": 46,
   "id": "5a6b5208-739f-4170-9ea7-bbd76aaf5dd0",
   "metadata": {},
   "outputs": [],
   "source": [
    "df_new = pd.DataFrame({\n",
    "    'key': df3['key'],\n",
    "    'fare_amount': test['fare_amount']\n",
    "})\n",
    "\n",
    "# Yeni DataFrame'i CSV olarak kaydetme\n",
    "df_new.to_csv('submission.csv', index=False)"
   ]
  },
  {
   "cell_type": "code",
   "execution_count": 47,
   "id": "c0b0a191-312b-4987-b79c-18d2622d10f7",
   "metadata": {},
   "outputs": [
    {
     "data": {
      "text/plain": [
       "(9914, 2)"
      ]
     },
     "execution_count": 47,
     "metadata": {},
     "output_type": "execute_result"
    }
   ],
   "source": [
    "df_new.shape"
   ]
  },
  {
   "cell_type": "code",
   "execution_count": 48,
   "id": "9354cc3d-a569-4743-bf9f-070057b4c322",
   "metadata": {},
   "outputs": [
    {
     "data": {
      "text/html": [
       "<div>\n",
       "<style scoped>\n",
       "    .dataframe tbody tr th:only-of-type {\n",
       "        vertical-align: middle;\n",
       "    }\n",
       "\n",
       "    .dataframe tbody tr th {\n",
       "        vertical-align: top;\n",
       "    }\n",
       "\n",
       "    .dataframe thead th {\n",
       "        text-align: right;\n",
       "    }\n",
       "</style>\n",
       "<table border=\"1\" class=\"dataframe\">\n",
       "  <thead>\n",
       "    <tr style=\"text-align: right;\">\n",
       "      <th></th>\n",
       "      <th>key</th>\n",
       "      <th>fare_amount</th>\n",
       "    </tr>\n",
       "  </thead>\n",
       "  <tbody>\n",
       "    <tr>\n",
       "      <th>0</th>\n",
       "      <td>2015-01-27 13:08:24.0000002</td>\n",
       "      <td>9.116914</td>\n",
       "    </tr>\n",
       "    <tr>\n",
       "      <th>1</th>\n",
       "      <td>2015-01-27 13:08:24.0000003</td>\n",
       "      <td>10.234802</td>\n",
       "    </tr>\n",
       "    <tr>\n",
       "      <th>2</th>\n",
       "      <td>2011-10-08 11:53:44.0000002</td>\n",
       "      <td>5.313328</td>\n",
       "    </tr>\n",
       "    <tr>\n",
       "      <th>3</th>\n",
       "      <td>2012-12-01 21:12:12.0000002</td>\n",
       "      <td>6.571102</td>\n",
       "    </tr>\n",
       "    <tr>\n",
       "      <th>4</th>\n",
       "      <td>2012-12-01 21:12:12.0000003</td>\n",
       "      <td>16.052261</td>\n",
       "    </tr>\n",
       "  </tbody>\n",
       "</table>\n",
       "</div>"
      ],
      "text/plain": [
       "                           key  fare_amount\n",
       "0  2015-01-27 13:08:24.0000002     9.116914\n",
       "1  2015-01-27 13:08:24.0000003    10.234802\n",
       "2  2011-10-08 11:53:44.0000002     5.313328\n",
       "3  2012-12-01 21:12:12.0000002     6.571102\n",
       "4  2012-12-01 21:12:12.0000003    16.052261"
      ]
     },
     "execution_count": 48,
     "metadata": {},
     "output_type": "execute_result"
    }
   ],
   "source": [
    "df_new.head()"
   ]
  },
  {
   "cell_type": "code",
   "execution_count": 49,
   "id": "eff5c8b5-09e2-4621-ae94-13c834b41ea9",
   "metadata": {},
   "outputs": [
    {
     "name": "stdout",
     "output_type": "stream",
     "text": [
      "Mean Absolute Error (MAE): 1.7825995752349235\n",
      "Mean Squared Error (MSE): 11.111964570628908\n",
      "R-squared (R2): 0.8653713518375601\n"
     ]
    }
   ],
   "source": [
    "mae = mean_absolute_error(y, model.predict(x))\n",
    "mse = mean_squared_error(y, model.predict(x))\n",
    "r2 = r2_score(y, model.predict(x))\n",
    "\n",
    "print(\"Mean Absolute Error (MAE):\", mae)\n",
    "print(\"Mean Squared Error (MSE):\", mse)\n",
    "print(\"R-squared (R2):\", r2)"
   ]
  },
  {
   "cell_type": "code",
   "execution_count": null,
   "id": "0daf0ff2-09b7-49da-983a-ba62d6c12ed7",
   "metadata": {},
   "outputs": [],
   "source": []
  },
  {
   "cell_type": "code",
   "execution_count": null,
   "id": "46826968-b3f7-481d-ad85-cd62588c1c9e",
   "metadata": {},
   "outputs": [],
   "source": []
  },
  {
   "cell_type": "code",
   "execution_count": null,
   "id": "f3c8a378-05d3-4d0e-84b7-14bb63c7e9b6",
   "metadata": {},
   "outputs": [],
   "source": []
  },
  {
   "cell_type": "code",
   "execution_count": null,
   "id": "ac8ab013-2492-43f2-a0eb-b65f3ba7aacc",
   "metadata": {},
   "outputs": [],
   "source": []
  }
 ],
 "metadata": {
  "kernelspec": {
   "display_name": "Python 3 (ipykernel)",
   "language": "python",
   "name": "python3"
  },
  "language_info": {
   "codemirror_mode": {
    "name": "ipython",
    "version": 3
   },
   "file_extension": ".py",
   "mimetype": "text/x-python",
   "name": "python",
   "nbconvert_exporter": "python",
   "pygments_lexer": "ipython3",
   "version": "3.11.8"
  }
 },
 "nbformat": 4,
 "nbformat_minor": 5
}
